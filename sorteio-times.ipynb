{
 "cells": [
  {
   "cell_type": "code",
   "execution_count": 2,
   "id": "31f3edfa",
   "metadata": {},
   "outputs": [
    {
     "name": "stdout",
     "output_type": "stream",
     "text": [
      "Digite a lista de jogadores separados por vírgula: 1. cezar, 2. Tata, 3. drepo, 4. caland, 5. Pedu Mendes, 6. Naegele, 7. Marquin, 8. Arthur, 9. Lessa, 10. Carlos, 11. Pinheiros, 12. André, 13. vini, 14. Vini, 15. acosta, 16. Mendanha, 17. Tico, 18. lobo\n",
      "Digite a quantidade de times: 3\n",
      "+------------+----------------+---------------+\n",
      "| TIME 1     | TIME 2         | TIME 3        |\n",
      "+------------+----------------+---------------+\n",
      "| 1. cezar   | 12. André      | 9. Lessa      |\n",
      "+------------+----------------+---------------+\n",
      "| 10. Carlos | 7. Marquin     | 15. acosta    |\n",
      "+------------+----------------+---------------+\n",
      "| 14. Vini   | 8. Arthur      | 11. Pinheiros |\n",
      "+------------+----------------+---------------+\n",
      "| 2. Tata    | 6. Naegele     | 13. vini      |\n",
      "+------------+----------------+---------------+\n",
      "| 17. Tico   | 16. Mendanha   | 18. lobo      |\n",
      "+------------+----------------+---------------+\n",
      "| 3. drepo   | 5. Pedu Mendes | 4. caland     |\n",
      "+------------+----------------+---------------+\n",
      "Os times estão justos? (S/N): S\n"
     ]
    }
   ],
   "source": [
    "import random\n",
    "from tabulate import tabulate\n",
    "\n",
    "# Função para obter a lista de jogadores do usuário\n",
    "def obter_lista_jogadores():\n",
    "    entrada = input(\"Digite a lista de jogadores separados por vírgula: \")\n",
    "    lista_jogadores = entrada.split(',')\n",
    "    return [jogador.strip() for jogador in lista_jogadores]\n",
    "\n",
    "# Função para realizar o sorteio dos times\n",
    "def realizar_sorteio(lista_jogadores, quantidade_de_times):\n",
    "    random.shuffle(lista_jogadores)\n",
    "    tamanho_do_time = len(lista_jogadores) // quantidade_de_times\n",
    "    times = [[] for _ in range(quantidade_de_times)]\n",
    "\n",
    "    for i in range(quantidade_de_times):\n",
    "        for j in range(tamanho_do_time):\n",
    "            if lista_jogadores:\n",
    "                jogador = lista_jogadores.pop()\n",
    "                times[i].append(jogador)\n",
    "\n",
    "    return times\n",
    "\n",
    "# Função para imprimir a tabela de times\n",
    "def imprimir_tabela_times(times):\n",
    "    dados = []\n",
    "    nomes_times = [f\"TIME {i + 1}\" for i in range(len(times))]\n",
    "    dados.append(nomes_times)\n",
    "\n",
    "    for i in range(max(len(time) for time in times)):\n",
    "        jogadores_time = [time[i] if i < len(time) else \"\" for time in times]\n",
    "        dados.append(jogadores_time)\n",
    "\n",
    "    print(tabulate(dados, tablefmt=\"grid\"))\n",
    "\n",
    "while True:\n",
    "    lista_de_jogadores = obter_lista_jogadores()\n",
    "    quantidade_de_times = int(input(\"Digite a quantidade de times: \"))\n",
    "\n",
    "    times = realizar_sorteio(lista_de_jogadores, quantidade_de_times)\n",
    "\n",
    "    imprimir_tabela_times(times)\n",
    "\n",
    "    resposta = input(\"Os times estão justos? (S/N): \").strip().lower()\n",
    "    if resposta == 's':\n",
    "        break\n",
    "    else:\n",
    "        print(\"Vamos refazer o sorteio.\\n\")"
   ]
  }
 ],
 "metadata": {
  "kernelspec": {
   "display_name": "Python 3 (ipykernel)",
   "language": "python",
   "name": "python3"
  },
  "language_info": {
   "codemirror_mode": {
    "name": "ipython",
    "version": 3
   },
   "file_extension": ".py",
   "mimetype": "text/x-python",
   "name": "python",
   "nbconvert_exporter": "python",
   "pygments_lexer": "ipython3",
   "version": "3.11.3"
  }
 },
 "nbformat": 4,
 "nbformat_minor": 5
}
