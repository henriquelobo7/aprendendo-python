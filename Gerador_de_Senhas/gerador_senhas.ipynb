{
 "cells": [
  {
   "cell_type": "code",
   "execution_count": 2,
   "id": "8da7f81f",
   "metadata": {},
   "outputs": [
    {
     "name": "stdout",
     "output_type": "stream",
     "text": [
      "Digite o comprimento da senha: 10\n",
      "^N\"nE94A0[\n"
     ]
    }
   ],
   "source": [
    "# Importa as bibliotecas necessárias\n",
    "import random, string\n",
    "\n",
    "# Função para gerar uma senha aleatória com base no comprimento especificado\n",
    "def gerar_senha(comprimento):\n",
    "    # Verifica se o comprimento mínimo da senha é atendido\n",
    "    if comprimento < 4:\n",
    "        print('Comprimento de senha deve ser maior que 3.')\n",
    "    else:\n",
    "        # Inicializa a lista de senha com um caractere maiúsculo, um caractere de pontuação e um dígito\n",
    "        senha = [\n",
    "            random.choice(string.ascii_uppercase),\n",
    "            random.choice(string.punctuation),\n",
    "            random.choice(string.digits),\n",
    "        ]\n",
    "        \n",
    "        # Cria uma string contendo todos os caracteres disponíveis para a senha\n",
    "        caracteres_disponíveis = ''.join([string.ascii_letters, string.punctuation, string.digits])\n",
    "\n",
    "        # Loop para adicionar caracteres aleatórios à senha até atingir o comprimento desejado\n",
    "        for i in range(comprimento - 3):\n",
    "            senha.append(random.choice(caracteres_disponíveis)) \n",
    "\n",
    "        # Embaralha os caracteres da senha para maior segurança\n",
    "        random.shuffle(senha)\n",
    "    \n",
    "    # Retorna a senha como uma string\n",
    "    return ''.join(senha)\n",
    "\n",
    "# Solicita ao usuário o comprimento desejado da senha\n",
    "comprimento_senha = int(input('Digite o comprimento da senha: '))\n",
    "\n",
    "# Chama a função para gerar a senha\n",
    "senha = gerar_senha(comprimento_senha)\n",
    "\n",
    "# Exibe a senha gerada\n",
    "print(senha)\n",
    "\n",
    "# Oi\n"
   ]
  }
 ],
 "metadata": {
  "kernelspec": {
   "display_name": "Python 3 (ipykernel)",
   "language": "python",
   "name": "python3"
  },
  "language_info": {
   "codemirror_mode": {
    "name": "ipython",
    "version": 3
   },
   "file_extension": ".py",
   "mimetype": "text/x-python",
   "name": "python",
   "nbconvert_exporter": "python",
   "pygments_lexer": "ipython3",
   "version": "3.11.3"
  }
 },
 "nbformat": 4,
 "nbformat_minor": 5
}
